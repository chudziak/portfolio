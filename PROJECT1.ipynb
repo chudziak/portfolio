{
 "cells": [
  {
   "cell_type": "markdown",
   "id": "e8b3bdc3-9594-40de-8ade-30a5fa12dfae",
   "metadata": {},
   "source": [
    "# Project 1 #\n",
    "## Predicting NHL players position based on their overall pick, points, and games played ##\n",
    "## By Adam White and Connor Hudziak ##\n",
    "\n",
    "In this project, we used data from kaggle (https://www.kaggle.com/datasets/mattop/nhl-draft-hockey-player-data-1963-2022) on nhl players to predict the position they play based on a number of different vraiables. In the NHL, players score points by scoring goals and assists, so for example, a player who scores a goal and an assist in a game scores 2 points. In general forwards score more goals than defenders, however assists are scored by both positions at a high rate. Our project focuses on determining whether a model can be made to predict a players position given the points they have scored.\n",
    "\n",
    "\n",
    "\n"
   ]
  },
  {
   "cell_type": "code",
   "execution_count": null,
   "id": "f7bf27bc-283e-4726-934e-df7806e71634",
   "metadata": {},
   "outputs": [],
   "source": [
    "import numpy as np\n",
    "import pandas as pd\n",
    "import matplotlib.pyplot as plt\n",
    "import seaborn as sn\n"
   ]
  },
  {
   "cell_type": "code",
   "execution_count": 357,
   "id": "8b9e8326-bae4-4bb4-b7f5-11d8923b226a",
   "metadata": {},
   "outputs": [
    {
     "data": {
      "text/html": [
       "<div>\n",
       "<style scoped>\n",
       "    .dataframe tbody tr th:only-of-type {\n",
       "        vertical-align: middle;\n",
       "    }\n",
       "\n",
       "    .dataframe tbody tr th {\n",
       "        vertical-align: top;\n",
       "    }\n",
       "\n",
       "    .dataframe thead th {\n",
       "        text-align: right;\n",
       "    }\n",
       "</style>\n",
       "<table border=\"1\" class=\"dataframe\">\n",
       "  <thead>\n",
       "    <tr style=\"text-align: right;\">\n",
       "      <th></th>\n",
       "      <th>id</th>\n",
       "      <th>year</th>\n",
       "      <th>overall_pick</th>\n",
       "      <th>team</th>\n",
       "      <th>player</th>\n",
       "      <th>nationality</th>\n",
       "      <th>position</th>\n",
       "      <th>age</th>\n",
       "      <th>to_year</th>\n",
       "      <th>amateur_team</th>\n",
       "      <th>...</th>\n",
       "      <th>points</th>\n",
       "      <th>plus_minus</th>\n",
       "      <th>penalties_minutes</th>\n",
       "      <th>goalie_games_played</th>\n",
       "      <th>goalie_wins</th>\n",
       "      <th>goalie_losses</th>\n",
       "      <th>goalie_ties_overtime</th>\n",
       "      <th>save_percentage</th>\n",
       "      <th>goals_against_average</th>\n",
       "      <th>point_shares</th>\n",
       "    </tr>\n",
       "  </thead>\n",
       "  <tbody>\n",
       "    <tr>\n",
       "      <th>0</th>\n",
       "      <td>1</td>\n",
       "      <td>2022</td>\n",
       "      <td>1</td>\n",
       "      <td>Montreal Canadiens</td>\n",
       "      <td>Juraj Slafkovsky</td>\n",
       "      <td>SK</td>\n",
       "      <td>LW</td>\n",
       "      <td>18.0</td>\n",
       "      <td>NaN</td>\n",
       "      <td>TPS (Finland)</td>\n",
       "      <td>...</td>\n",
       "      <td>NaN</td>\n",
       "      <td>NaN</td>\n",
       "      <td>NaN</td>\n",
       "      <td>NaN</td>\n",
       "      <td>NaN</td>\n",
       "      <td>NaN</td>\n",
       "      <td>NaN</td>\n",
       "      <td>NaN</td>\n",
       "      <td>NaN</td>\n",
       "      <td>NaN</td>\n",
       "    </tr>\n",
       "    <tr>\n",
       "      <th>1</th>\n",
       "      <td>2</td>\n",
       "      <td>2022</td>\n",
       "      <td>2</td>\n",
       "      <td>New Jersey Devils</td>\n",
       "      <td>Simon Nemec</td>\n",
       "      <td>SK</td>\n",
       "      <td>D</td>\n",
       "      <td>18.0</td>\n",
       "      <td>NaN</td>\n",
       "      <td>HK Nitra (Slovakia)</td>\n",
       "      <td>...</td>\n",
       "      <td>NaN</td>\n",
       "      <td>NaN</td>\n",
       "      <td>NaN</td>\n",
       "      <td>NaN</td>\n",
       "      <td>NaN</td>\n",
       "      <td>NaN</td>\n",
       "      <td>NaN</td>\n",
       "      <td>NaN</td>\n",
       "      <td>NaN</td>\n",
       "      <td>NaN</td>\n",
       "    </tr>\n",
       "    <tr>\n",
       "      <th>2</th>\n",
       "      <td>3</td>\n",
       "      <td>2022</td>\n",
       "      <td>3</td>\n",
       "      <td>Arizona Coyotes</td>\n",
       "      <td>Logan Cooley</td>\n",
       "      <td>US</td>\n",
       "      <td>C</td>\n",
       "      <td>18.0</td>\n",
       "      <td>NaN</td>\n",
       "      <td>USA U-18 Development Team (USDP/USHL)</td>\n",
       "      <td>...</td>\n",
       "      <td>NaN</td>\n",
       "      <td>NaN</td>\n",
       "      <td>NaN</td>\n",
       "      <td>NaN</td>\n",
       "      <td>NaN</td>\n",
       "      <td>NaN</td>\n",
       "      <td>NaN</td>\n",
       "      <td>NaN</td>\n",
       "      <td>NaN</td>\n",
       "      <td>NaN</td>\n",
       "    </tr>\n",
       "    <tr>\n",
       "      <th>3</th>\n",
       "      <td>4</td>\n",
       "      <td>2022</td>\n",
       "      <td>4</td>\n",
       "      <td>Seattle Kraken</td>\n",
       "      <td>Shane Wright</td>\n",
       "      <td>CA</td>\n",
       "      <td>C</td>\n",
       "      <td>18.0</td>\n",
       "      <td>NaN</td>\n",
       "      <td>Kingston Frontenacs (OHL)</td>\n",
       "      <td>...</td>\n",
       "      <td>NaN</td>\n",
       "      <td>NaN</td>\n",
       "      <td>NaN</td>\n",
       "      <td>NaN</td>\n",
       "      <td>NaN</td>\n",
       "      <td>NaN</td>\n",
       "      <td>NaN</td>\n",
       "      <td>NaN</td>\n",
       "      <td>NaN</td>\n",
       "      <td>NaN</td>\n",
       "    </tr>\n",
       "    <tr>\n",
       "      <th>4</th>\n",
       "      <td>5</td>\n",
       "      <td>2022</td>\n",
       "      <td>5</td>\n",
       "      <td>Philadelphia Flyers</td>\n",
       "      <td>Cutter Gauthier</td>\n",
       "      <td>SE</td>\n",
       "      <td>LW</td>\n",
       "      <td>18.0</td>\n",
       "      <td>NaN</td>\n",
       "      <td>USA U-18 Development Team (USDP/USHL)</td>\n",
       "      <td>...</td>\n",
       "      <td>NaN</td>\n",
       "      <td>NaN</td>\n",
       "      <td>NaN</td>\n",
       "      <td>NaN</td>\n",
       "      <td>NaN</td>\n",
       "      <td>NaN</td>\n",
       "      <td>NaN</td>\n",
       "      <td>NaN</td>\n",
       "      <td>NaN</td>\n",
       "      <td>NaN</td>\n",
       "    </tr>\n",
       "  </tbody>\n",
       "</table>\n",
       "<p>5 rows × 23 columns</p>\n",
       "</div>"
      ],
      "text/plain": [
       "   id  year  overall_pick                 team            player nationality  \\\n",
       "0   1  2022             1   Montreal Canadiens  Juraj Slafkovsky          SK   \n",
       "1   2  2022             2    New Jersey Devils       Simon Nemec          SK   \n",
       "2   3  2022             3      Arizona Coyotes      Logan Cooley          US   \n",
       "3   4  2022             4       Seattle Kraken      Shane Wright          CA   \n",
       "4   5  2022             5  Philadelphia Flyers   Cutter Gauthier          SE   \n",
       "\n",
       "  position   age  to_year                           amateur_team  ...  points  \\\n",
       "0       LW  18.0      NaN                          TPS (Finland)  ...     NaN   \n",
       "1        D  18.0      NaN                    HK Nitra (Slovakia)  ...     NaN   \n",
       "2        C  18.0      NaN  USA U-18 Development Team (USDP/USHL)  ...     NaN   \n",
       "3        C  18.0      NaN              Kingston Frontenacs (OHL)  ...     NaN   \n",
       "4       LW  18.0      NaN  USA U-18 Development Team (USDP/USHL)  ...     NaN   \n",
       "\n",
       "   plus_minus  penalties_minutes  goalie_games_played  goalie_wins  \\\n",
       "0         NaN                NaN                  NaN          NaN   \n",
       "1         NaN                NaN                  NaN          NaN   \n",
       "2         NaN                NaN                  NaN          NaN   \n",
       "3         NaN                NaN                  NaN          NaN   \n",
       "4         NaN                NaN                  NaN          NaN   \n",
       "\n",
       "   goalie_losses  goalie_ties_overtime  save_percentage  \\\n",
       "0            NaN                   NaN              NaN   \n",
       "1            NaN                   NaN              NaN   \n",
       "2            NaN                   NaN              NaN   \n",
       "3            NaN                   NaN              NaN   \n",
       "4            NaN                   NaN              NaN   \n",
       "\n",
       "   goals_against_average  point_shares  \n",
       "0                    NaN           NaN  \n",
       "1                    NaN           NaN  \n",
       "2                    NaN           NaN  \n",
       "3                    NaN           NaN  \n",
       "4                    NaN           NaN  \n",
       "\n",
       "[5 rows x 23 columns]"
      ]
     },
     "execution_count": 357,
     "metadata": {},
     "output_type": "execute_result"
    }
   ],
   "source": [
    "# data from https://www.kaggle.com/datasets/mattop/nhl-draft-hockey-player-data-1963-2022 \n",
    "data = pd.read_csv(\"C:/Users/adamw/Downloads/250 NOTEBOOKS/nhldraft.csv\")\n",
    "data.head()"
   ]
  },
  {
   "cell_type": "code",
   "execution_count": 358,
   "id": "55e4a6ef-aa40-436f-9033-56121e678338",
   "metadata": {},
   "outputs": [],
   "source": [
    "data.drop(['plus_minus', 'penalties_minutes', 'goalie_games_played', 'goalie_wins', 'goalie_losses', \n",
    "          'goalie_ties_overtime', 'save_percentage', 'goals_against_average', 'point_shares','age','to_year'],axis=1, inplace=True)\n"
   ]
  },
  {
   "cell_type": "code",
   "execution_count": 359,
   "id": "3199e002-dd8f-4ac3-9b8b-3c26c0488c8f",
   "metadata": {},
   "outputs": [
    {
     "data": {
      "text/plain": [
       "id                 0\n",
       "year               0\n",
       "overall_pick       0\n",
       "team               1\n",
       "player             0\n",
       "nationality        4\n",
       "position          27\n",
       "amateur_team       0\n",
       "games_played    7004\n",
       "goals           7004\n",
       "assists         7004\n",
       "points          7004\n",
       "dtype: int64"
      ]
     },
     "execution_count": 359,
     "metadata": {},
     "output_type": "execute_result"
    }
   ],
   "source": [
    "data.isna().sum()"
   ]
  },
  {
   "cell_type": "code",
   "execution_count": 360,
   "id": "76e2ef38-ceaa-478b-9095-3d7a5e899811",
   "metadata": {},
   "outputs": [],
   "source": [
    "data = data.dropna(subset=['points'])"
   ]
  },
  {
   "cell_type": "markdown",
   "id": "3503ef55-7ce4-4b9a-8dcb-8e5f06c40adc",
   "metadata": {},
   "source": [
    "## Turning position into 0 and 1 ##\n",
    "Here we are going to convert the position labels into either 0 or 1 based on whether they are classified by forward or defense players. Forwards are players in the C (Center), LW (Left Wing), RW (Right Wing) positions. The forwards will be classified with a 0 and the rest with a D (Defenseman) will be represented with a 1. We created a new 'Positions' column to account for this representation and drop the 'D' and 'F' that was previously represented. \n"
   ]
  },
  {
   "cell_type": "code",
   "execution_count": 361,
   "id": "ac4d6b01-3e56-46b7-87db-5d84a8830916",
   "metadata": {},
   "outputs": [
    {
     "data": {
      "text/plain": [
       "1603"
      ]
     },
     "execution_count": 361,
     "metadata": {},
     "output_type": "execute_result"
    }
   ],
   "source": [
    "data['C'] = np.uint8(data.position== 'C')\n",
    "data['LW'] = np.uint8(data.position=='LW')\n",
    "data['RW'] = np.uint8(data.position=='RW')\n",
    "data['D'] = np.uint8(data.position=='D')\n",
    "data.D.sum()\n"
   ]
  },
  {
   "cell_type": "code",
   "execution_count": 362,
   "id": "54b6956b-6c1f-4c3b-93d4-32a949c51bf8",
   "metadata": {},
   "outputs": [
    {
     "data": {
      "text/plain": [
       "3017"
      ]
     },
     "execution_count": 362,
     "metadata": {},
     "output_type": "execute_result"
    }
   ],
   "source": [
    "data[\"F\"] = (data[\"C\"] + data[\"LW\"] + data[\"RW\"]).astype(\"int\")\n",
    "data.drop(['C','LW','RW'], axis=1, inplace = True)\n",
    "data.F.sum()"
   ]
  },
  {
   "cell_type": "code",
   "execution_count": 363,
   "id": "ba89ba05-b6a1-487d-9ae4-737a718b807b",
   "metadata": {},
   "outputs": [],
   "source": [
    "data[\"Position\"] = (data[\"D\"]).astype(\"int\")\n",
    "data.drop(['D','F'], axis=1, inplace = True)"
   ]
  },
  {
   "cell_type": "code",
   "execution_count": 364,
   "id": "9856270e-4b43-41ff-8519-c518177af326",
   "metadata": {},
   "outputs": [
    {
     "data": {
      "text/html": [
       "<div>\n",
       "<style scoped>\n",
       "    .dataframe tbody tr th:only-of-type {\n",
       "        vertical-align: middle;\n",
       "    }\n",
       "\n",
       "    .dataframe tbody tr th {\n",
       "        vertical-align: top;\n",
       "    }\n",
       "\n",
       "    .dataframe thead th {\n",
       "        text-align: right;\n",
       "    }\n",
       "</style>\n",
       "<table border=\"1\" class=\"dataframe\">\n",
       "  <thead>\n",
       "    <tr style=\"text-align: right;\">\n",
       "      <th></th>\n",
       "      <th>id</th>\n",
       "      <th>year</th>\n",
       "      <th>overall_pick</th>\n",
       "      <th>team</th>\n",
       "      <th>player</th>\n",
       "      <th>nationality</th>\n",
       "      <th>position</th>\n",
       "      <th>amateur_team</th>\n",
       "      <th>games_played</th>\n",
       "      <th>goals</th>\n",
       "      <th>assists</th>\n",
       "      <th>points</th>\n",
       "      <th>Position</th>\n",
       "    </tr>\n",
       "  </thead>\n",
       "  <tbody>\n",
       "    <tr>\n",
       "      <th>225</th>\n",
       "      <td>226</td>\n",
       "      <td>2021</td>\n",
       "      <td>1</td>\n",
       "      <td>Buffalo Sabres</td>\n",
       "      <td>Owen Power</td>\n",
       "      <td>CA</td>\n",
       "      <td>D</td>\n",
       "      <td>Michigan (Big Ten)</td>\n",
       "      <td>8.0</td>\n",
       "      <td>2.0</td>\n",
       "      <td>1.0</td>\n",
       "      <td>3.0</td>\n",
       "      <td>1</td>\n",
       "    </tr>\n",
       "    <tr>\n",
       "      <th>226</th>\n",
       "      <td>227</td>\n",
       "      <td>2021</td>\n",
       "      <td>2</td>\n",
       "      <td>Seattle Kraken</td>\n",
       "      <td>Matthew Beniers</td>\n",
       "      <td>US</td>\n",
       "      <td>C</td>\n",
       "      <td>Michigan (Big Ten)</td>\n",
       "      <td>10.0</td>\n",
       "      <td>3.0</td>\n",
       "      <td>6.0</td>\n",
       "      <td>9.0</td>\n",
       "      <td>0</td>\n",
       "    </tr>\n",
       "    <tr>\n",
       "      <th>227</th>\n",
       "      <td>228</td>\n",
       "      <td>2021</td>\n",
       "      <td>3</td>\n",
       "      <td>Anaheim Ducks</td>\n",
       "      <td>Mason Mctavish</td>\n",
       "      <td>CH</td>\n",
       "      <td>C</td>\n",
       "      <td>Peterborough Petes (OHL)</td>\n",
       "      <td>9.0</td>\n",
       "      <td>2.0</td>\n",
       "      <td>1.0</td>\n",
       "      <td>3.0</td>\n",
       "      <td>0</td>\n",
       "    </tr>\n",
       "    <tr>\n",
       "      <th>229</th>\n",
       "      <td>230</td>\n",
       "      <td>2021</td>\n",
       "      <td>5</td>\n",
       "      <td>Columbus Blue Jackets</td>\n",
       "      <td>Kent Johnson</td>\n",
       "      <td>CA</td>\n",
       "      <td>C</td>\n",
       "      <td>Michigan (Big Ten)</td>\n",
       "      <td>9.0</td>\n",
       "      <td>0.0</td>\n",
       "      <td>3.0</td>\n",
       "      <td>3.0</td>\n",
       "      <td>0</td>\n",
       "    </tr>\n",
       "    <tr>\n",
       "      <th>231</th>\n",
       "      <td>232</td>\n",
       "      <td>2021</td>\n",
       "      <td>7</td>\n",
       "      <td>San Jose Sharks</td>\n",
       "      <td>William Eklund</td>\n",
       "      <td>SE</td>\n",
       "      <td>LW</td>\n",
       "      <td>Djurgardens IF (Sweden)</td>\n",
       "      <td>9.0</td>\n",
       "      <td>0.0</td>\n",
       "      <td>4.0</td>\n",
       "      <td>4.0</td>\n",
       "      <td>0</td>\n",
       "    </tr>\n",
       "    <tr>\n",
       "      <th>235</th>\n",
       "      <td>236</td>\n",
       "      <td>2021</td>\n",
       "      <td>12</td>\n",
       "      <td>Columbus Blue Jackets</td>\n",
       "      <td>Cole Sillinger</td>\n",
       "      <td>US</td>\n",
       "      <td>C</td>\n",
       "      <td>Sioux Falls Stampede (USHL)</td>\n",
       "      <td>79.0</td>\n",
       "      <td>16.0</td>\n",
       "      <td>15.0</td>\n",
       "      <td>31.0</td>\n",
       "      <td>0</td>\n",
       "    </tr>\n",
       "    <tr>\n",
       "      <th>283</th>\n",
       "      <td>284</td>\n",
       "      <td>2021</td>\n",
       "      <td>60</td>\n",
       "      <td>Arizona Coyotes</td>\n",
       "      <td>Janis Moser</td>\n",
       "      <td>CH</td>\n",
       "      <td>D</td>\n",
       "      <td>EHC Biel-Bienne (Swiss)</td>\n",
       "      <td>43.0</td>\n",
       "      <td>4.0</td>\n",
       "      <td>11.0</td>\n",
       "      <td>15.0</td>\n",
       "      <td>1</td>\n",
       "    </tr>\n",
       "    <tr>\n",
       "      <th>448</th>\n",
       "      <td>449</td>\n",
       "      <td>2020</td>\n",
       "      <td>1</td>\n",
       "      <td>New York Rangers</td>\n",
       "      <td>Alexis Lafreniere</td>\n",
       "      <td>CA</td>\n",
       "      <td>LW</td>\n",
       "      <td>Rimouski Oceanic (QMJHL)</td>\n",
       "      <td>135.0</td>\n",
       "      <td>31.0</td>\n",
       "      <td>21.0</td>\n",
       "      <td>52.0</td>\n",
       "      <td>0</td>\n",
       "    </tr>\n",
       "    <tr>\n",
       "      <th>449</th>\n",
       "      <td>450</td>\n",
       "      <td>2020</td>\n",
       "      <td>2</td>\n",
       "      <td>Los Angeles Kings</td>\n",
       "      <td>Quinton Byfield</td>\n",
       "      <td>CA</td>\n",
       "      <td>C</td>\n",
       "      <td>Sudbury Wolves (OHL)</td>\n",
       "      <td>46.0</td>\n",
       "      <td>5.0</td>\n",
       "      <td>6.0</td>\n",
       "      <td>11.0</td>\n",
       "      <td>0</td>\n",
       "    </tr>\n",
       "    <tr>\n",
       "      <th>450</th>\n",
       "      <td>451</td>\n",
       "      <td>2020</td>\n",
       "      <td>3</td>\n",
       "      <td>Ottawa Senators</td>\n",
       "      <td>Tim Stützle</td>\n",
       "      <td>DE</td>\n",
       "      <td>LW</td>\n",
       "      <td>Adler Mannheim (Germany)</td>\n",
       "      <td>132.0</td>\n",
       "      <td>34.0</td>\n",
       "      <td>53.0</td>\n",
       "      <td>87.0</td>\n",
       "      <td>0</td>\n",
       "    </tr>\n",
       "    <tr>\n",
       "      <th>451</th>\n",
       "      <td>452</td>\n",
       "      <td>2020</td>\n",
       "      <td>4</td>\n",
       "      <td>Detroit Red Wings</td>\n",
       "      <td>Lucas Raymond</td>\n",
       "      <td>SE</td>\n",
       "      <td>LW</td>\n",
       "      <td>Frolunda HC (Sweden)</td>\n",
       "      <td>82.0</td>\n",
       "      <td>23.0</td>\n",
       "      <td>34.0</td>\n",
       "      <td>57.0</td>\n",
       "      <td>0</td>\n",
       "    </tr>\n",
       "    <tr>\n",
       "      <th>453</th>\n",
       "      <td>454</td>\n",
       "      <td>2020</td>\n",
       "      <td>6</td>\n",
       "      <td>Anaheim Ducks</td>\n",
       "      <td>Jamie Drysdale</td>\n",
       "      <td>CA</td>\n",
       "      <td>D</td>\n",
       "      <td>Erie Otters (OHL)</td>\n",
       "      <td>105.0</td>\n",
       "      <td>7.0</td>\n",
       "      <td>33.0</td>\n",
       "      <td>40.0</td>\n",
       "      <td>1</td>\n",
       "    </tr>\n",
       "    <tr>\n",
       "      <th>454</th>\n",
       "      <td>455</td>\n",
       "      <td>2020</td>\n",
       "      <td>7</td>\n",
       "      <td>New Jersey Devils</td>\n",
       "      <td>Alexander Holtz</td>\n",
       "      <td>SE</td>\n",
       "      <td>RW</td>\n",
       "      <td>Djurgardens IF (Sweden)</td>\n",
       "      <td>9.0</td>\n",
       "      <td>0.0</td>\n",
       "      <td>2.0</td>\n",
       "      <td>2.0</td>\n",
       "      <td>0</td>\n",
       "    </tr>\n",
       "    <tr>\n",
       "      <th>455</th>\n",
       "      <td>456</td>\n",
       "      <td>2020</td>\n",
       "      <td>8</td>\n",
       "      <td>Buffalo Sabres</td>\n",
       "      <td>Jack Quinn</td>\n",
       "      <td>CA</td>\n",
       "      <td>RW</td>\n",
       "      <td>Ottawa 67's (OHL)</td>\n",
       "      <td>2.0</td>\n",
       "      <td>1.0</td>\n",
       "      <td>1.0</td>\n",
       "      <td>2.0</td>\n",
       "      <td>0</td>\n",
       "    </tr>\n",
       "    <tr>\n",
       "      <th>456</th>\n",
       "      <td>457</td>\n",
       "      <td>2020</td>\n",
       "      <td>9</td>\n",
       "      <td>Minnesota Wild</td>\n",
       "      <td>Marco Rossi</td>\n",
       "      <td>AT</td>\n",
       "      <td>C</td>\n",
       "      <td>Ottawa 67's (OHL)</td>\n",
       "      <td>2.0</td>\n",
       "      <td>0.0</td>\n",
       "      <td>0.0</td>\n",
       "      <td>0.0</td>\n",
       "      <td>0</td>\n",
       "    </tr>\n",
       "    <tr>\n",
       "      <th>457</th>\n",
       "      <td>458</td>\n",
       "      <td>2020</td>\n",
       "      <td>10</td>\n",
       "      <td>Winnipeg Jets</td>\n",
       "      <td>Cole Perfetti</td>\n",
       "      <td>CA</td>\n",
       "      <td>C</td>\n",
       "      <td>Saginaw Spirit (OHL)</td>\n",
       "      <td>18.0</td>\n",
       "      <td>2.0</td>\n",
       "      <td>5.0</td>\n",
       "      <td>7.0</td>\n",
       "      <td>0</td>\n",
       "    </tr>\n",
       "    <tr>\n",
       "      <th>459</th>\n",
       "      <td>460</td>\n",
       "      <td>2020</td>\n",
       "      <td>12</td>\n",
       "      <td>Florida Panthers</td>\n",
       "      <td>Anton Lundell</td>\n",
       "      <td>FI</td>\n",
       "      <td>C</td>\n",
       "      <td>HIFK (Finland)</td>\n",
       "      <td>65.0</td>\n",
       "      <td>18.0</td>\n",
       "      <td>26.0</td>\n",
       "      <td>44.0</td>\n",
       "      <td>0</td>\n",
       "    </tr>\n",
       "    <tr>\n",
       "      <th>460</th>\n",
       "      <td>461</td>\n",
       "      <td>2020</td>\n",
       "      <td>13</td>\n",
       "      <td>Carolina Hurricanes</td>\n",
       "      <td>Seth Jarvis</td>\n",
       "      <td>CA</td>\n",
       "      <td>C</td>\n",
       "      <td>Portland Winterhawks (WHL)</td>\n",
       "      <td>68.0</td>\n",
       "      <td>17.0</td>\n",
       "      <td>23.0</td>\n",
       "      <td>40.0</td>\n",
       "      <td>0</td>\n",
       "    </tr>\n",
       "    <tr>\n",
       "      <th>464</th>\n",
       "      <td>465</td>\n",
       "      <td>2020</td>\n",
       "      <td>17</td>\n",
       "      <td>Chicago Blackhawks</td>\n",
       "      <td>Lukas Reichel</td>\n",
       "      <td>DE</td>\n",
       "      <td>LW</td>\n",
       "      <td>Eisbaren Berlin (Germany)</td>\n",
       "      <td>11.0</td>\n",
       "      <td>0.0</td>\n",
       "      <td>1.0</td>\n",
       "      <td>1.0</td>\n",
       "      <td>0</td>\n",
       "    </tr>\n",
       "    <tr>\n",
       "      <th>465</th>\n",
       "      <td>466</td>\n",
       "      <td>2020</td>\n",
       "      <td>18</td>\n",
       "      <td>New Jersey Devils</td>\n",
       "      <td>Dawson Mercer</td>\n",
       "      <td>CA</td>\n",
       "      <td>C</td>\n",
       "      <td>Chicoutimi Sagueneens (QMJHL)</td>\n",
       "      <td>82.0</td>\n",
       "      <td>17.0</td>\n",
       "      <td>25.0</td>\n",
       "      <td>42.0</td>\n",
       "      <td>0</td>\n",
       "    </tr>\n",
       "  </tbody>\n",
       "</table>\n",
       "</div>"
      ],
      "text/plain": [
       "      id  year  overall_pick                   team             player  \\\n",
       "225  226  2021             1         Buffalo Sabres         Owen Power   \n",
       "226  227  2021             2         Seattle Kraken    Matthew Beniers   \n",
       "227  228  2021             3          Anaheim Ducks     Mason Mctavish   \n",
       "229  230  2021             5  Columbus Blue Jackets       Kent Johnson   \n",
       "231  232  2021             7        San Jose Sharks     William Eklund   \n",
       "235  236  2021            12  Columbus Blue Jackets     Cole Sillinger   \n",
       "283  284  2021            60        Arizona Coyotes        Janis Moser   \n",
       "448  449  2020             1       New York Rangers  Alexis Lafreniere   \n",
       "449  450  2020             2      Los Angeles Kings    Quinton Byfield   \n",
       "450  451  2020             3        Ottawa Senators        Tim Stützle   \n",
       "451  452  2020             4      Detroit Red Wings      Lucas Raymond   \n",
       "453  454  2020             6          Anaheim Ducks     Jamie Drysdale   \n",
       "454  455  2020             7      New Jersey Devils    Alexander Holtz   \n",
       "455  456  2020             8         Buffalo Sabres         Jack Quinn   \n",
       "456  457  2020             9         Minnesota Wild        Marco Rossi   \n",
       "457  458  2020            10          Winnipeg Jets      Cole Perfetti   \n",
       "459  460  2020            12       Florida Panthers      Anton Lundell   \n",
       "460  461  2020            13    Carolina Hurricanes        Seth Jarvis   \n",
       "464  465  2020            17     Chicago Blackhawks      Lukas Reichel   \n",
       "465  466  2020            18      New Jersey Devils      Dawson Mercer   \n",
       "\n",
       "    nationality position                   amateur_team  games_played  goals  \\\n",
       "225          CA        D             Michigan (Big Ten)           8.0    2.0   \n",
       "226          US        C             Michigan (Big Ten)          10.0    3.0   \n",
       "227          CH        C       Peterborough Petes (OHL)           9.0    2.0   \n",
       "229          CA        C             Michigan (Big Ten)           9.0    0.0   \n",
       "231          SE       LW        Djurgardens IF (Sweden)           9.0    0.0   \n",
       "235          US        C    Sioux Falls Stampede (USHL)          79.0   16.0   \n",
       "283          CH        D        EHC Biel-Bienne (Swiss)          43.0    4.0   \n",
       "448          CA       LW       Rimouski Oceanic (QMJHL)         135.0   31.0   \n",
       "449          CA        C           Sudbury Wolves (OHL)          46.0    5.0   \n",
       "450          DE       LW       Adler Mannheim (Germany)         132.0   34.0   \n",
       "451          SE       LW           Frolunda HC (Sweden)          82.0   23.0   \n",
       "453          CA        D              Erie Otters (OHL)         105.0    7.0   \n",
       "454          SE       RW        Djurgardens IF (Sweden)           9.0    0.0   \n",
       "455          CA       RW              Ottawa 67's (OHL)           2.0    1.0   \n",
       "456          AT        C              Ottawa 67's (OHL)           2.0    0.0   \n",
       "457          CA        C           Saginaw Spirit (OHL)          18.0    2.0   \n",
       "459          FI        C                 HIFK (Finland)          65.0   18.0   \n",
       "460          CA        C     Portland Winterhawks (WHL)          68.0   17.0   \n",
       "464          DE       LW      Eisbaren Berlin (Germany)          11.0    0.0   \n",
       "465          CA        C  Chicoutimi Sagueneens (QMJHL)          82.0   17.0   \n",
       "\n",
       "     assists  points  Position  \n",
       "225      1.0     3.0         1  \n",
       "226      6.0     9.0         0  \n",
       "227      1.0     3.0         0  \n",
       "229      3.0     3.0         0  \n",
       "231      4.0     4.0         0  \n",
       "235     15.0    31.0         0  \n",
       "283     11.0    15.0         1  \n",
       "448     21.0    52.0         0  \n",
       "449      6.0    11.0         0  \n",
       "450     53.0    87.0         0  \n",
       "451     34.0    57.0         0  \n",
       "453     33.0    40.0         1  \n",
       "454      2.0     2.0         0  \n",
       "455      1.0     2.0         0  \n",
       "456      0.0     0.0         0  \n",
       "457      5.0     7.0         0  \n",
       "459     26.0    44.0         0  \n",
       "460     23.0    40.0         0  \n",
       "464      1.0     1.0         0  \n",
       "465     25.0    42.0         0  "
      ]
     },
     "execution_count": 364,
     "metadata": {},
     "output_type": "execute_result"
    }
   ],
   "source": [
    "data.head(20)"
   ]
  },
  {
   "cell_type": "markdown",
   "id": "fe640e76-54da-43ce-884a-10846a531bb6",
   "metadata": {},
   "source": [
    "## Correlation Heatmap ##\n",
    "This correlation heat map makes clear some obvious relationships between our variables. The amount of games a player plays has a very large impact on the number of points they end up scoring. There is also a negative correlation between overall pick and points scored, this makes sense considering players picked earlier are considered to be better players with a high chance of playing more. Most interestingly, there is very little correlation between position and points."
   ]
  },
  {
   "cell_type": "code",
   "execution_count": 365,
   "id": "f9bb4ffe-ad4a-4d65-944c-9651b0b8f301",
   "metadata": {},
   "outputs": [
    {
     "data": {
      "image/png": "[encoded data removed]",
      "text/plain": [
       "<Figure size 432x288 with 2 Axes>"
      ]
     },
     "metadata": {
      "needs_background": "light"
     },
     "output_type": "display_data"
    }
   ],
   "source": [
    "data.drop(['team','nationality', 'amateur_team','position', 'player', 'id', 'year'], axis=1, inplace = True)\n",
    "dataplot = sn.heatmap(data.corr(), cmap=\"YlGnBu\", annot=True)\n",
    "plt.show()"
   ]
  },
  {
   "cell_type": "code",
   "execution_count": 366,
   "id": "b4f7ceff-8dfe-48a8-890a-d5740bb47fcf",
   "metadata": {},
   "outputs": [],
   "source": [
    "data.drop(['goals','assists'], axis=1, inplace = True)\n"
   ]
  },
  {
   "cell_type": "markdown",
   "id": "7ce7daa8-f9b6-4dca-abef-3f98841bf8da",
   "metadata": {},
   "source": [
    "## Bar chart 1 ##\n",
    "We will now create a bar chart that shows the total amount of forwards and defensemen that are represented in our data. This includes all players drafted that have played at least a game in the NHL.\n"
   ]
  },
  {
   "cell_type": "code",
   "execution_count": 367,
   "id": "b6ab1da6-250b-465c-8485-b8c9f699044b",
   "metadata": {},
   "outputs": [
    {
     "data": {
      "image/png": "[encoded data removed]",
      "text/plain": [
       "<Figure size 432x288 with 1 Axes>"
      ]
     },
     "metadata": {
      "needs_background": "light"
     },
     "output_type": "display_data"
    }
   ],
   "source": [
    "plt.bar(['Defense','Forward'],[data.Position.sum(),len(data)-data.Position.sum()])\n",
    "plt.show()\n"
   ]
  },
  {
   "cell_type": "code",
   "execution_count": 381,
   "id": "f9168b0e-8099-4725-bfde-b42aa1431c06",
   "metadata": {},
   "outputs": [],
   "source": [
    "data = data[data['points'] >= 50 ] \n",
    "data = data[data['games_played'] >= 100 ] "
   ]
  },
  {
   "cell_type": "markdown",
   "id": "e0566c88-5fd6-461d-a229-dfde7189d4ba",
   "metadata": {},
   "source": [
    "## Scatter plot ##\n",
    "The Scatter plot below shows the relationship between the overall pick between 1 and an estimated 300 depending on the year of the draft. We have also accounted for players that were drafted and have not played an NHL game or have a low number of points. In our model we will use players that were drafted and have earned 50 or more points and have played at least 100 or more NHL games.\n"
   ]
  },
  {
   "cell_type": "code",
   "execution_count": 383,
   "id": "27f1e46a-8fab-4962-83fa-99dab6692b53",
   "metadata": {},
   "outputs": [
    {
     "data": {
      "text/plain": [
       "<matplotlib.collections.PathCollection at 0x24cd0090a60>"
      ]
     },
     "execution_count": 383,
     "metadata": {},
     "output_type": "execute_result"
    },
    {
     "data": {
      "image/png": "[encoded data removed]",
      "text/plain": [
       "<Figure size 432x288 with 1 Axes>"
      ]
     },
     "metadata": {
      "needs_background": "light"
     },
     "output_type": "display_data"
    }
   ],
   "source": [
    "plt.scatter(data.overall_pick, data.games_played)"
   ]
  },
  {
   "cell_type": "code",
   "execution_count": 370,
   "id": "15e73dc7-fb4f-4cfc-8466-bee263edf771",
   "metadata": {},
   "outputs": [],
   "source": [
    "labels = np.array(data.Position)"
   ]
  },
  {
   "cell_type": "markdown",
   "id": "b256928b-497c-44b0-b55c-db4aa6f5d361",
   "metadata": {
    "tags": []
   },
   "source": [
    "## Filtering Data ##\n",
    "Here we set a requirement for players to have played at least 100 games and scored at least 50 points. This should help reduce some of the error in our model as it would be hard for the model to predict a player's position if they have only played a few games in the NHL and scored few if any points. This is a very common scenario as many players play only a few games, so this does mean a large amount of our data is being cut\n"
   ]
  },
  {
   "cell_type": "code",
   "execution_count": 371,
   "id": "76329498-5b73-4fc7-9ea0-7d4f1da8f83f",
   "metadata": {},
   "outputs": [],
   "source": [
    "new_data = data[data['points'] >= 50 ] \n",
    "new_data = data[data['games_played'] >= 100 ] "
   ]
  },
  {
   "cell_type": "markdown",
   "id": "231cdae0-c970-43d4-8fcf-55b45d790eec",
   "metadata": {},
   "source": [
    "## Bar Chart 2 ## \n",
    "Below is an updated bar chart with the amount of defensemen and forwards who were drafted and have played at least a 100 or more games and have earned 50 or more points in the NHL.\n"
   ]
  },
  {
   "cell_type": "code",
   "execution_count": 372,
   "id": "cd4777b6-048f-40fa-b072-e64b9cd7e604",
   "metadata": {},
   "outputs": [
    {
     "data": {
      "image/png": "[encoded data removed]",
      "text/plain": [
       "<Figure size 432x288 with 1 Axes>"
      ]
     },
     "metadata": {
      "needs_background": "light"
     },
     "output_type": "display_data"
    }
   ],
   "source": [
    "plt.bar(['Defense','Forward'],[new_data.Position.sum(),len(new_data)-new_data.Position.sum()])\n",
    "plt.show()"
   ]
  },
  {
   "cell_type": "code",
   "execution_count": 373,
   "id": "863746dd-c3f5-4f99-987a-9ee5e427f509",
   "metadata": {},
   "outputs": [
    {
     "data": {
      "text/plain": [
       "0    1519\n",
       "1     704\n",
       "Name: Position, dtype: int64"
      ]
     },
     "execution_count": 373,
     "metadata": {},
     "output_type": "execute_result"
    }
   ],
   "source": [
    "vc = data['Position'].value_counts()\n",
    "vc"
   ]
  },
  {
   "cell_type": "code",
   "execution_count": 374,
   "id": "f9f9263b-0a9f-40c9-851a-2da08598d765",
   "metadata": {},
   "outputs": [],
   "source": [
    "data = data.dropna()\n",
    "data.drop(['Position'], axis=1, inplace = True)"
   ]
  },
  {
   "cell_type": "code",
   "execution_count": 375,
   "id": "1bf5f018-cf79-4d53-b4de-8c1f5136956b",
   "metadata": {},
   "outputs": [
    {
     "data": {
      "text/html": [
       "<div>\n",
       "<style scoped>\n",
       "    .dataframe tbody tr th:only-of-type {\n",
       "        vertical-align: middle;\n",
       "    }\n",
       "\n",
       "    .dataframe tbody tr th {\n",
       "        vertical-align: top;\n",
       "    }\n",
       "\n",
       "    .dataframe thead th {\n",
       "        text-align: right;\n",
       "    }\n",
       "</style>\n",
       "<table border=\"1\" class=\"dataframe\">\n",
       "  <thead>\n",
       "    <tr style=\"text-align: right;\">\n",
       "      <th></th>\n",
       "      <th>overall_pick</th>\n",
       "      <th>games_played</th>\n",
       "      <th>points</th>\n",
       "    </tr>\n",
       "  </thead>\n",
       "  <tbody>\n",
       "    <tr>\n",
       "      <th>448</th>\n",
       "      <td>1</td>\n",
       "      <td>135.0</td>\n",
       "      <td>52.0</td>\n",
       "    </tr>\n",
       "    <tr>\n",
       "      <th>450</th>\n",
       "      <td>3</td>\n",
       "      <td>132.0</td>\n",
       "      <td>87.0</td>\n",
       "    </tr>\n",
       "    <tr>\n",
       "      <th>664</th>\n",
       "      <td>1</td>\n",
       "      <td>166.0</td>\n",
       "      <td>108.0</td>\n",
       "    </tr>\n",
       "    <tr>\n",
       "      <th>665</th>\n",
       "      <td>2</td>\n",
       "      <td>157.0</td>\n",
       "      <td>58.0</td>\n",
       "    </tr>\n",
       "    <tr>\n",
       "      <th>666</th>\n",
       "      <td>3</td>\n",
       "      <td>152.0</td>\n",
       "      <td>59.0</td>\n",
       "    </tr>\n",
       "  </tbody>\n",
       "</table>\n",
       "</div>"
      ],
      "text/plain": [
       "     overall_pick  games_played  points\n",
       "448             1         135.0    52.0\n",
       "450             3         132.0    87.0\n",
       "664             1         166.0   108.0\n",
       "665             2         157.0    58.0\n",
       "666             3         152.0    59.0"
      ]
     },
     "execution_count": 375,
     "metadata": {},
     "output_type": "execute_result"
    }
   ],
   "source": [
    "from sklearn.model_selection import train_test_split\n",
    "X_train, X_test, y_train, y_test = train_test_split(data, labels, test_size=0.2, random_state=42)\n",
    "data.head()"
   ]
  },
  {
   "cell_type": "code",
   "execution_count": 376,
   "id": "83602952-57d3-43c3-b15d-4faab4ae8529",
   "metadata": {},
   "outputs": [
    {
     "data": {
      "text/plain": [
       "LogisticRegression(max_iter=1000, multi_class='multinomial', random_state=0)"
      ]
     },
     "execution_count": 376,
     "metadata": {},
     "output_type": "execute_result"
    }
   ],
   "source": [
    "from sklearn.linear_model import LogisticRegression\n",
    "\n",
    "model = LogisticRegression(random_state=0, solver='lbfgs',\n",
    "                         multi_class='multinomial',max_iter=1000)\n",
    "model.fit(X_train,y_train)"
   ]
  },
  {
   "cell_type": "markdown",
   "id": "1bcf4606-e6a4-4537-b704-a0e88e00bfe3",
   "metadata": {},
   "source": [
    "## Logistic Regression Model ##\n",
    "Our logistic regression model has a score of 76.18%, which is a relatively high score consdiering some of the challanges of the data set and structure."
   ]
  },
  {
   "cell_type": "code",
   "execution_count": 377,
   "id": "564169fc-3e89-46b1-b6e8-66a1f642986c",
   "metadata": {},
   "outputs": [
    {
     "name": "stdout",
     "output_type": "stream",
     "text": [
      "0.7617977528089888\n"
     ]
    }
   ],
   "source": [
    "print(model.score(X_test, y_test))"
   ]
  },
  {
   "cell_type": "code",
   "execution_count": 384,
   "id": "24ae5519-23b4-4f92-8943-fdf5183c8aac",
   "metadata": {},
   "outputs": [
    {
     "data": {
      "text/plain": [
       "<AxesSubplot:>"
      ]
     },
     "execution_count": 384,
     "metadata": {},
     "output_type": "execute_result"
    },
    {
     "data": {
      "image/png": "[encoded data removed]",
      "text/plain": [
       "<Figure size 720x504 with 2 Axes>"
      ]
     },
     "metadata": {
      "needs_background": "light"
     },
     "output_type": "display_data"
    }
   ],
   "source": [
    "import seaborn as sn\n",
    "numClasses = 2\n",
    "labels = ['F','D']\n",
    "conf = np.zeros([numClasses,numClasses])\n",
    "guesses = model.predict(X_test)\n",
    "\n",
    "for Position in range(len(y_test)):\n",
    "    real = y_test[Position]\n",
    "    guess = guesses[Position]\n",
    "    conf[real,guess] = conf[real,guess] + 1\n",
    " \n",
    "rowsums = np.sum(conf,1)\n",
    "rowsums = np.reshape(rowsums,[numClasses,1])\n",
    "rowsums = np.repeat(rowsums,numClasses, axis = 1)\n",
    "conf = conf / rowsums\n",
    "df_cm = pd.DataFrame(conf, index = [i for i in labels],\n",
    "                  columns = [i for i in labels])\n",
    "plt.figure(figsize = (10,7))\n",
    "sn.heatmap(df_cm, annot=True)"
   ]
  },
  {
   "cell_type": "markdown",
   "id": "408ff0af-d4f1-4c0c-a309-f40b5c475289",
   "metadata": {},
   "source": [
    "## Confusion Matrix Results ##\n",
    "Our confusion matrix shows that the model is good at predicting forwards, with a 94% success rate, but poor at predicting defenders with only a 34% success rate. The model clearly skews towards classifying players as forwards, which could be caused by a few things. Part of problem is the number of forwards that met the predetermined requirements of games played and points doubles the number of defenders that meet these requirements. Another issue is the similarities between the two positions point totals. Since there is not a position that clearly scores more points than another, the classifier can look at a player thats played 200 games and scored 75 points and it is entirely reasonable for this to be either a defender or a forward. Perhaps a project which includes a requirement that could reduce the spread in values between forwards and defenders could create a more accurate classifier. This could for example be a requirement for average time on ice  (a stat not included in this dataset) which skews more towards defenders."
   ]
  }
 ],
 "metadata": {
  "kernelspec": {
   "display_name": "Python 3 (ipykernel)",
   "language": "python",
   "name": "python3"
  },
  "language_info": {
   "codemirror_mode": {
    "name": "ipython",
    "version": 3
   },
   "file_extension": ".py",
   "mimetype": "text/x-python",
   "name": "python",
   "nbconvert_exporter": "python",
   "pygments_lexer": "ipython3",
   "version": "3.9.12"
  }
 },
 "nbformat": 4,
 "nbformat_minor": 5
}
