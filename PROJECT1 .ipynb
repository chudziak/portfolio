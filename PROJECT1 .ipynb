<!doctype html><html lang="en"><head><meta charset="utf-8"><title>JupyterLab</title><meta name="viewport" content="width=device-width,initial-scale=1">   <script id="jupyter-config-data" type="application/json">{"allow_hidden_files": false, "appName": "JupyterLab", "appNamespace": "lab", "appSettingsDir": "/Applications/anaconda3/share/jupyter/lab/settings", "appUrl": "/lab", "appVersion": "3.3.2", "baseUrl": "/", "buildAvailable": true, "buildCheck": true, "cacheFiles": false, "collaborative": false, "devMode": false, "disabledExtensions": [], "exposeAppInBrowser": false, "extraLabextensionsPath": [], "federated_extensions": [{"extension": "./extension", "load": "static/remoteEntry.f372bf1de02fb50ae6e0.js", "mimeExtension": "./mimeExtension", "name": "jupyterlab-plotly"}, {"extension": "./extension", "load": "static/remoteEntry.c267118552c4161d6406.js", "name": "@pyviz/jupyterlab_pyviz", "style": "./style"}, {"extension": "./extension", "load": "static/remoteEntry.ca1efc27dc965162ca86.js", "name": "@jupyter-widgets/jupyterlab-manager"}], "fullAppUrl": "/lab", "fullLabextensionsUrl": "/lab/extensions", "fullLicensesUrl": "/lab/api/licenses", "fullListingsUrl": "/lab/api/listings", "fullMathjaxUrl": "/static/notebook/components/MathJax/MathJax.js", "fullSettingsUrl": "/lab/api/settings", "fullStaticUrl": "/static/lab", "fullThemesUrl": "/lab/api/themes", "fullTranslationsApiUrl": "/lab/api/translations", "fullTreeUrl": "/lab/tree", "fullWorkspacesApiUrl": "/lab/api/workspaces", "ignorePlugins": [], "labextensionsPath": ["/Users/connorhudziak/Library/Jupyter/labextensions", "/Users/connorhudziak/.local/share/jupyter/labextensions", "/Applications/anaconda3/share/jupyter/labextensions", "/usr/local/share/jupyter/labextensions", "/usr/share/jupyter/labextensions"], "labextensionsUrl": "/lab/extensions", "licensesUrl": "/lab/api/licenses", "listingsUrl": "/lab/api/listings", "mathjaxConfig": "TeX-AMS-MML_HTMLorMML-full,Safe", "mode": "multiple-document", "notebookVersion": "[1, 13, 5, \"\", \"\"]", "preferredPath": "/", "quitButton": true, "schemasDir": "/Applications/anaconda3/share/jupyter/lab/schemas", "serverRoot": "/Users/connorhudziak", "settingsUrl": "/lab/api/settings", "staticDir": "/Applications/anaconda3/share/jupyter/lab/static", "store_id": 8, "templatesDir": "/Applications/anaconda3/share/jupyter/lab/static", "terminalsAvailable": true, "themesDir": "/Applications/anaconda3/share/jupyter/lab/themes", "themesUrl": "/lab/api/themes", "token": "3d9624b7c05e6bdad3f786b02b820f1ae2d15321f1541ca3", "translationsApiUrl": "/lab/api/translations", "treePath": "Downloads/250 NOTEBOOKS/PROJECT1.ipynb", "treeUrl": "/lab/tree", "userSettingsDir": "/Users/connorhudziak/.jupyter/lab/user-settings", "workspace": "default", "workspacesApiUrl": "/lab/api/workspaces", "workspacesDir": "/Users/connorhudziak/.jupyter/lab/workspaces", "wsUrl": ""}</script><link rel="icon" type="image/x-icon" href="/static/favicons/favicon.ico" class="idle favicon"><link rel="" type="image/x-icon" href="/static/favicons/favicon-busy-1.ico" class="busy favicon"><script defer="defer" src="/static/lab/main.46d6e638824298417ce9.js?v=46d6e638824298417ce9"></script></head><body><script>/* Remove token from URL. */
  (function () {
    var location = window.location;
    var search = location.search;

    // If there is no query string, bail.
    if (search.length <= 1) {
      return;
    }

    // Rebuild the query string without the `token`.
    var query = '?' + search.slice(1).split('&')
      .filter(function (param) { return param.split('=')[0] !== 'token'; })
      .join('&');

    // Rebuild the URL with the new query string.
    var url = location.origin + location.pathname +
      (query !== '?' ? query : '') + location.hash;

    if (url === location.href) {
      return;
    }

    window.history.replaceState({ }, '', url);
  })();</script></body></html>