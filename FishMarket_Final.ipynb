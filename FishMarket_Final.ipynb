{
 "cells": [
  {
   "cell_type": "code",
   "execution_count": 1,
   "id": "4169e40e",
   "metadata": {},
   "outputs": [],
   "source": [
    "import numpy as np\n",
    "import pandas as pd\n",
    "import matplotlib.pyplot as plt"
   ]
  },
  {
   "cell_type": "code",
   "execution_count": 6,
   "id": "9a2661df",
   "metadata": {},
   "outputs": [
    {
     "data": {
      "text/html": [
       "<div>\n",
       "<style scoped>\n",
       "    .dataframe tbody tr th:only-of-type {\n",
       "        vertical-align: middle;\n",
       "    }\n",
       "\n",
       "    .dataframe tbody tr th {\n",
       "        vertical-align: top;\n",
       "    }\n",
       "\n",
       "    .dataframe thead th {\n",
       "        text-align: right;\n",
       "    }\n",
       "</style>\n",
       "<table border=\"1\" class=\"dataframe\">\n",
       "  <thead>\n",
       "    <tr style=\"text-align: right;\">\n",
       "      <th></th>\n",
       "      <th>Species</th>\n",
       "      <th>Weight</th>\n",
       "      <th>Length1</th>\n",
       "      <th>Length2</th>\n",
       "      <th>Length3</th>\n",
       "      <th>Height</th>\n",
       "      <th>Width</th>\n",
       "    </tr>\n",
       "  </thead>\n",
       "  <tbody>\n",
       "    <tr>\n",
       "      <th>0</th>\n",
       "      <td>Bream</td>\n",
       "      <td>242.0</td>\n",
       "      <td>23.2</td>\n",
       "      <td>25.4</td>\n",
       "      <td>30.0</td>\n",
       "      <td>11.5200</td>\n",
       "      <td>4.0200</td>\n",
       "    </tr>\n",
       "    <tr>\n",
       "      <th>1</th>\n",
       "      <td>Bream</td>\n",
       "      <td>290.0</td>\n",
       "      <td>24.0</td>\n",
       "      <td>26.3</td>\n",
       "      <td>31.2</td>\n",
       "      <td>12.4800</td>\n",
       "      <td>4.3056</td>\n",
       "    </tr>\n",
       "    <tr>\n",
       "      <th>2</th>\n",
       "      <td>Bream</td>\n",
       "      <td>340.0</td>\n",
       "      <td>23.9</td>\n",
       "      <td>26.5</td>\n",
       "      <td>31.1</td>\n",
       "      <td>12.3778</td>\n",
       "      <td>4.6961</td>\n",
       "    </tr>\n",
       "    <tr>\n",
       "      <th>3</th>\n",
       "      <td>Bream</td>\n",
       "      <td>363.0</td>\n",
       "      <td>26.3</td>\n",
       "      <td>29.0</td>\n",
       "      <td>33.5</td>\n",
       "      <td>12.7300</td>\n",
       "      <td>4.4555</td>\n",
       "    </tr>\n",
       "    <tr>\n",
       "      <th>4</th>\n",
       "      <td>Bream</td>\n",
       "      <td>430.0</td>\n",
       "      <td>26.5</td>\n",
       "      <td>29.0</td>\n",
       "      <td>34.0</td>\n",
       "      <td>12.4440</td>\n",
       "      <td>5.1340</td>\n",
       "    </tr>\n",
       "    <tr>\n",
       "      <th>5</th>\n",
       "      <td>Bream</td>\n",
       "      <td>450.0</td>\n",
       "      <td>26.8</td>\n",
       "      <td>29.7</td>\n",
       "      <td>34.7</td>\n",
       "      <td>13.6024</td>\n",
       "      <td>4.9274</td>\n",
       "    </tr>\n",
       "    <tr>\n",
       "      <th>6</th>\n",
       "      <td>Bream</td>\n",
       "      <td>500.0</td>\n",
       "      <td>26.8</td>\n",
       "      <td>29.7</td>\n",
       "      <td>34.5</td>\n",
       "      <td>14.1795</td>\n",
       "      <td>5.2785</td>\n",
       "    </tr>\n",
       "    <tr>\n",
       "      <th>7</th>\n",
       "      <td>Bream</td>\n",
       "      <td>390.0</td>\n",
       "      <td>27.6</td>\n",
       "      <td>30.0</td>\n",
       "      <td>35.0</td>\n",
       "      <td>12.6700</td>\n",
       "      <td>4.6900</td>\n",
       "    </tr>\n",
       "  </tbody>\n",
       "</table>\n",
       "</div>"
      ],
      "text/plain": [
       "  Species  Weight  Length1  Length2  Length3   Height   Width\n",
       "0   Bream   242.0     23.2     25.4     30.0  11.5200  4.0200\n",
       "1   Bream   290.0     24.0     26.3     31.2  12.4800  4.3056\n",
       "2   Bream   340.0     23.9     26.5     31.1  12.3778  4.6961\n",
       "3   Bream   363.0     26.3     29.0     33.5  12.7300  4.4555\n",
       "4   Bream   430.0     26.5     29.0     34.0  12.4440  5.1340\n",
       "5   Bream   450.0     26.8     29.7     34.7  13.6024  4.9274\n",
       "6   Bream   500.0     26.8     29.7     34.5  14.1795  5.2785\n",
       "7   Bream   390.0     27.6     30.0     35.0  12.6700  4.6900"
      ]
     },
     "execution_count": 6,
     "metadata": {},
     "output_type": "execute_result"
    }
   ],
   "source": [
    "data = pd.read_csv('Fish.csv')\n",
    "data.head(8)"
   ]
  },
  {
   "cell_type": "code",
   "execution_count": 7,
   "id": "fc3d63fa-d2e0-42d6-84f4-12fe130c94b7",
   "metadata": {},
   "outputs": [
    {
     "data": {
      "text/plain": [
       "(159, 7)"
      ]
     },
     "execution_count": 7,
     "metadata": {},
     "output_type": "execute_result"
    }
   ],
   "source": [
    "data.shape"
   ]
  },
  {
   "cell_type": "code",
   "execution_count": 8,
   "id": "28d5bdb0",
   "metadata": {},
   "outputs": [
    {
     "data": {
      "image/png": "[encoded data removed]",
      "text/plain": [
       "<Figure size 1152x576 with 1 Axes>"
      ]
     },
     "metadata": {
      "needs_background": "light"
     },
     "output_type": "display_data"
    }
   ],
   "source": [
    "fig = plt.figure(figsize=(16,8))\n",
    "plt.bar(range(data.shape[0]),data.Weight)\n",
    "plt.show()"
   ]
  },
  {
   "cell_type": "code",
   "execution_count": 9,
   "id": "7e658539",
   "metadata": {},
   "outputs": [
    {
     "name": "stdout",
     "output_type": "stream",
     "text": [
      "['Bream' 'Roach' 'Whitefish' 'Parkki' 'Perch' 'Pike' 'Smelt']\n",
      "Perch        56\n",
      "Bream        35\n",
      "Roach        20\n",
      "Pike         17\n",
      "Smelt        14\n",
      "Parkki       11\n",
      "Whitefish     6\n",
      "Name: Species, dtype: int64\n"
     ]
    }
   ],
   "source": [
    "print(data.Species.unique())\n",
    "print(data.Species.value_counts())"
   ]
  },
  {
   "cell_type": "code",
   "execution_count": 10,
   "id": "9a268a87",
   "metadata": {},
   "outputs": [
    {
     "data": {
      "text/plain": [
       "<matplotlib.collections.PathCollection at 0x7fc10cdafa60>"
      ]
     },
     "execution_count": 10,
     "metadata": {},
     "output_type": "execute_result"
    },
    {
     "data": {
      "image/png": "[encoded data removed]",
      "text/plain": [
       "<Figure size 432x288 with 1 Axes>"
      ]
     },
     "metadata": {
      "needs_background": "light"
     },
     "output_type": "display_data"
    }
   ],
   "source": [
    "plt.scatter(data.Height,data.Weight)"
   ]
  },
  {
   "cell_type": "code",
   "execution_count": 11,
   "id": "a70781e6",
   "metadata": {},
   "outputs": [
    {
     "data": {
      "text/plain": [
       "(159, 6)"
      ]
     },
     "execution_count": 11,
     "metadata": {},
     "output_type": "execute_result"
    }
   ],
   "source": [
    "temp = np.array(data)\n",
    "labels = data.Species\n",
    "values = temp[:,1:]\n",
    "values.shape"
   ]
  },
  {
   "cell_type": "code",
   "execution_count": 12,
   "id": "c7446ee4",
   "metadata": {},
   "outputs": [
    {
     "data": {
      "text/plain": [
       "KMeans(n_clusters=7)"
      ]
     },
     "execution_count": 12,
     "metadata": {},
     "output_type": "execute_result"
    }
   ],
   "source": [
    "from sklearn.cluster import KMeans\n",
    "model = KMeans(7)\n",
    "model.fit(values)"
   ]
  },
  {
   "cell_type": "code",
   "execution_count": 13,
   "id": "51b9e775",
   "metadata": {},
   "outputs": [
    {
     "data": {
      "text/plain": [
       "array([1, 1, 1, 1, 5, 5, 5, 1, 5, 5, 5, 5, 5, 1, 5, 5, 2, 2, 5, 2, 5, 2,\n",
       "       5, 2, 2, 2, 2, 2, 2, 4, 4, 4, 4, 4, 4, 6, 6, 6, 6, 3, 6, 3, 3, 3,\n",
       "       3, 3, 3, 3, 3, 3, 3, 3, 1, 1, 1, 1, 1, 1, 5, 2, 4, 6, 6, 6, 3, 3,\n",
       "       3, 3, 3, 3, 1, 1, 6, 6, 6, 6, 6, 3, 6, 6, 6, 6, 3, 3, 3, 3, 3, 3,\n",
       "       3, 3, 3, 3, 3, 3, 3, 3, 3, 3, 3, 3, 3, 3, 1, 1, 1, 1, 1, 1, 1, 5,\n",
       "       5, 2, 2, 2, 2, 2, 4, 2, 2, 2, 4, 4, 2, 4, 4, 4, 4, 4, 3, 1, 1, 1,\n",
       "       5, 1, 5, 5, 5, 5, 5, 2, 4, 4, 0, 0, 0, 6, 6, 6, 6, 6, 6, 6, 6, 6,\n",
       "       6, 6, 6, 6, 6], dtype=int32)"
      ]
     },
     "execution_count": 13,
     "metadata": {},
     "output_type": "execute_result"
    }
   ],
   "source": [
    "model.labels_"
   ]
  },
  {
   "cell_type": "code",
   "execution_count": 14,
   "id": "6c5e312d",
   "metadata": {},
   "outputs": [
    {
     "data": {
      "image/png": "[encoded data removed]",
      "text/plain": [
       "<Figure size 1152x576 with 1 Axes>"
      ]
     },
     "metadata": {
      "needs_background": "light"
     },
     "output_type": "display_data"
    }
   ],
   "source": [
    "fig = plt.figure(figsize=(16,8))\n",
    "plt.bar(range(len(model.labels_)),model.labels_)\n",
    "plt.show()"
   ]
  },
  {
   "cell_type": "code",
   "execution_count": 15,
   "id": "4f960c6e",
   "metadata": {},
   "outputs": [
    {
     "data": {
      "image/png": "[encoded data removed]",
      "text/plain": [
       "<Figure size 1152x576 with 1 Axes>"
      ]
     },
     "metadata": {
      "needs_background": "light"
     },
     "output_type": "display_data"
    }
   ],
   "source": [
    "from sklearn.decomposition import PCA\n",
    "pca = PCA(n_components=2,whiten=True)\n",
    "lowDimValues = pca.fit_transform(values)\n",
    "model2 = KMeans(7)\n",
    "model2.fit(lowDimValues)\n",
    "fig = plt.figure(figsize=(16,8))\n",
    "plt.bar(range(len(model2.labels_)),model2.labels_)\n",
    "plt.show()"
   ]
  },
  {
   "cell_type": "code",
   "execution_count": 16,
   "id": "1b3be232-7885-4aea-8ccc-9562eb965090",
   "metadata": {},
   "outputs": [
    {
     "data": {
      "image/png": "[encoded data removed]",
      "text/plain": [
       "<Figure size 1152x576 with 1 Axes>"
      ]
     },
     "metadata": {
      "needs_background": "light"
     },
     "output_type": "display_data"
    }
   ],
   "source": [
    "data = data.sample(frac=1.0)\n",
    "fig = plt.figure(figsize=(16,8))\n",
    "plt.bar(range(data.shape[0]),data.Weight)\n",
    "plt.show()"
   ]
  },
  {
   "cell_type": "code",
   "execution_count": 17,
   "id": "ad025441-d003-4c4c-ab7f-99c0eb9ec030",
   "metadata": {},
   "outputs": [],
   "source": [
    "train = 0.8\n",
    "\n",
    "traindata = []\n",
    "testdata = []\n",
    "trainlabels = []\n",
    "testlabels = []\n",
    "\n",
    "\n",
    "\n",
    "species_names = data.Species.unique()\n",
    "\n",
    "for i in range(len(species_names)):\n",
    "    species_data = data[data.Species==species_names[i]]\n",
    "    temp = np.array(species_data)\n",
    "    values = temp[:,1:]\n",
    "    traincount = int(train * len(species_data))\n",
    "    testcount = len(species_data) - traincount\n",
    "    for u in range(traincount):\n",
    "        trainlabels.append(species_names[i])\n",
    "        traindata.append(values[u,:])\n",
    "    for v in range(traincount, traincount+testcount):\n",
    "        testlabels.append(species_names[i])\n",
    "        testdata.append(values[v,:])\n",
    "    \n",
    "traindata = np.array(traindata)   \n",
    "testdata = np.array(testdata)\n",
    "trainlabels = np.array(trainlabels)\n",
    "testlabels = np.array(testlabels)"
   ]
  },
  {
   "cell_type": "code",
   "execution_count": 18,
   "id": "8d05cc3e-c56e-452c-bae1-a0752919f777",
   "metadata": {},
   "outputs": [
    {
     "name": "stdout",
     "output_type": "stream",
     "text": [
      "(124, 6) (124,) (35, 6) (35,)\n"
     ]
    }
   ],
   "source": [
    "print(traindata.shape, trainlabels.shape, testdata.shape, testlabels.shape)\n"
   ]
  },
  {
   "cell_type": "code",
   "execution_count": 19,
   "id": "3349e65c-9589-41cd-9931-52341ad2f57c",
   "metadata": {},
   "outputs": [],
   "source": [
    "def euclideanDistance(a, b):\n",
    "    total = 0\n",
    "    for i in range(a.shape[0]):\n",
    "        total += (a[i]-b[i]) ** 2\n",
    "    return np.sqrt(total)\n",
    "\n",
    "def manhattanDistance(a, b):\n",
    "    total = 0\n",
    "    for i in range(a.shape[0]):\n",
    "        total += np.abs(a[i]-b[i])\n",
    "    return total\n"
   ]
  },
  {
   "cell_type": "code",
   "execution_count": 20,
   "id": "f5028d62-c554-4c3d-b1ad-a6ec216aeade",
   "metadata": {},
   "outputs": [
    {
     "data": {
      "text/plain": [
       "array([[246.9464,  41.5657,  42.9316, ..., 351.0756, 361.6828, 354.1619],\n",
       "       [277.2288, 565.7409, 567.1068, ..., 875.2508, 885.858 , 878.3371],\n",
       "       [229.0188,  60.5529,  62.3888, ..., 369.0032, 379.6104, 372.0895],\n",
       "       ...,\n",
       "       [608.074 , 319.5619, 318.196 , ...,  10.052 ,   0.9552,   6.9657],\n",
       "       [596.107 , 307.5949, 306.229 , ...,   2.1642,  12.5222,   5.0309],\n",
       "       [611.4196, 322.9075, 321.5416, ...,  13.3976,   2.8112,  10.3113]])"
      ]
     },
     "execution_count": 20,
     "metadata": {},
     "output_type": "execute_result"
    }
   ],
   "source": [
    "distances = np.zeros([testdata.shape[0],traindata.shape[0]])\n",
    "for test in range(testdata.shape[0]):\n",
    "    a = testdata[test,:]\n",
    "    for train in range(traindata.shape[0]):\n",
    "        b = traindata[train,:]\n",
    "        distances[test, train] = manhattanDistance(a, b)\n",
    "    \n",
    "distances    "
   ]
  },
  {
   "cell_type": "code",
   "execution_count": 21,
   "id": "91f9616b-4a0d-46bd-ae2d-da6892f50302",
   "metadata": {},
   "outputs": [
    {
     "data": {
      "text/plain": [
       "array([[  6,  44,  81, ...,  95,  94,  92],\n",
       "       [ 31,  34,  51, ..., 122,  12,  92],\n",
       "       [  6,  44,  64, ...,  95,  94,  92],\n",
       "       ...,\n",
       "       [122, 120, 115, ...,  95,  94,  92],\n",
       "       [121, 119, 116, ...,  95,  94,  92],\n",
       "       [122,  12, 120, ...,  95,  94,  92]])"
      ]
     },
     "execution_count": 21,
     "metadata": {},
     "output_type": "execute_result"
    }
   ],
   "source": [
    "indexes = np.argsort(distances) #sorts by distances\n",
    "indexes"
   ]
  },
  {
   "cell_type": "code",
   "execution_count": 22,
   "id": "2214a665-ed49-4a32-aa74-5d19542983ba",
   "metadata": {},
   "outputs": [
    {
     "name": "stdout",
     "output_type": "stream",
     "text": [
      "['Perch' 'Perch' 'Perch' 'Perch' 'Perch' 'Perch' 'Parkki' 'Perch' 'Roach'\n",
      " 'Perch' 'Whitefish' 'Perch' 'Perch' 'Perch' 'Bream' 'Whitefish' 'Perch'\n",
      " 'Bream' 'Bream' 'Bream' 'Bream' 'Perch' 'Roach' 'Roach' 'Whitefish'\n",
      " 'Pike' 'Pike' 'Pike' 'Pike' 'Perch' 'Roach' 'Perch' 'Smelt' 'Smelt'\n",
      " 'Smelt']\n",
      "Score: 0.6571428571428571\n"
     ]
    }
   ],
   "source": [
    "## NN Classification\n",
    "predictions = []\n",
    "for test in range(testdata.shape[0]):\n",
    "    predictions.append(trainlabels[indexes[test,0]])\n",
    "predictions = np.array(predictions)\n",
    "print(predictions)\n",
    "score = np.sum(predictions==testlabels)\n",
    "print('Score:', score / predictions.shape[0])"
   ]
  },
  {
   "cell_type": "code",
   "execution_count": 23,
   "id": "09b525f8-c626-486a-89a7-33531576a8f0",
   "metadata": {},
   "outputs": [
    {
     "name": "stdout",
     "output_type": "stream",
     "text": [
      "['Perch' 'Perch' 'Perch' 'Bream' 'Perch' 'Perch' 'Parkki' 'Perch' 'Perch'\n",
      " 'Perch' 'Perch' 'Bream' 'Perch' 'Perch' 'Bream' 'Perch' 'Bream' 'Bream'\n",
      " 'Bream' 'Bream' 'Bream' 'Perch' 'Parkki' 'Roach' 'Whitefish' 'Bream'\n",
      " 'Pike' 'Bream' 'Perch' 'Perch' 'Parkki' 'Roach' 'Smelt' 'Smelt' 'Smelt']\n",
      "0.6\n"
     ]
    }
   ],
   "source": [
    "## K-NN Classification\n",
    "from scipy import stats as st\n",
    "\n",
    "K = 3\n",
    "predictions = []\n",
    "for test in range(testdata.shape[0]):\n",
    "    temp = trainlabels[indexes[test,0:K]]\n",
    "    pred = st.mode(temp).mode[0]\n",
    "    predictions.append(pred)\n",
    "    \n",
    "predictions = np.array(predictions)\n",
    "print(predictions)\n",
    "score = np.sum(predictions==testlabels)\n",
    "print(score / predictions.shape[0])"
   ]
  },
  {
   "cell_type": "code",
   "execution_count": null,
   "id": "1eb44cb0-e7ad-4f12-bb34-f2f010003e28",
   "metadata": {},
   "outputs": [],
   "source": []
  }
 ],
 "metadata": {
  "kernelspec": {
   "display_name": "Python 3 (ipykernel)",
   "language": "python",
   "name": "python3"
  },
  "language_info": {
   "codemirror_mode": {
    "name": "ipython",
    "version": 3
   },
   "file_extension": ".py",
   "mimetype": "text/x-python",
   "name": "python",
   "nbconvert_exporter": "python",
   "pygments_lexer": "ipython3",
   "version": "3.9.12"
  }
 },
 "nbformat": 4,
 "nbformat_minor": 5
}
